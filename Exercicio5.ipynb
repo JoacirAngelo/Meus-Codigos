{
  "nbformat": 4,
  "nbformat_minor": 0,
  "metadata": {
    "colab": {
      "name": "Exercicio5.ipynb",
      "provenance": [],
      "collapsed_sections": [],
      "authorship_tag": "ABX9TyOGLCyHafXqrIANvGMV5G/H",
      "include_colab_link": true
    },
    "kernelspec": {
      "name": "python3",
      "display_name": "Python 3"
    },
    "language_info": {
      "name": "python"
    }
  },
  "cells": [
    {
      "cell_type": "markdown",
      "metadata": {
        "id": "view-in-github",
        "colab_type": "text"
      },
      "source": [
        "<a href=\"https://colab.research.google.com/github/JoacirAngelo/Meus-Codigos/blob/main/Exercicio5.ipynb\" target=\"_parent\"><img src=\"https://colab.research.google.com/assets/colab-badge.svg\" alt=\"Open In Colab\"/></a>"
      ]
    },
    {
      "cell_type": "markdown",
      "metadata": {
        "id": "rjTvO0fxOjm6"
      },
      "source": [
        "Faça um programa que calcule a conversão monetária de Real para Dólar. O usuário informa o valor da cotação do dólar (ex.: 3,78) e quanto em real deseja converter (ex. 150,00). O programa exibe quantos dólares valem os reais informados. "
      ]
    },
    {
      "cell_type": "code",
      "metadata": {
        "colab": {
          "base_uri": "https://localhost:8080/"
        },
        "id": "uhpgIIROOr1v",
        "outputId": "08c11cb5-870d-43e2-8247-af34b28a1e4a"
      },
      "source": [
        "print('-------PROGRAMA DE CONVERSÃO MONETÁRIA-------')\n",
        "print('\\n')\n",
        "d= float(input('Qual o valor do Dolar/Real ?: R$'))\n",
        "r= float(input('Quanto em reais você quer converter ?: R$' ))\n",
        "c= r / d\n",
        "print('Feita a converção de R${:.2f} para Dolar você tem ${:.2f}'.format(r,c))\n",
        "\n",
        "\n",
        "\n"
      ],
      "execution_count": 4,
      "outputs": [
        {
          "output_type": "stream",
          "text": [
            "-------PROGRAMA DE CONVERSÃO MONETÁRIA-------\n",
            "\n",
            "\n",
            "Qual o valor do Dolar/Real ?: R$5.25\n",
            "Quanto em reais você quer converter ?: R$10.50\n",
            "Feita a converção de R$10.50 para Dolar você tem $2.00\n"
          ],
          "name": "stdout"
        }
      ]
    }
  ]
}