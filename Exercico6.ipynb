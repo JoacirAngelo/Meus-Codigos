{
  "nbformat": 4,
  "nbformat_minor": 0,
  "metadata": {
    "colab": {
      "name": "Exercico6.ipynb",
      "provenance": [],
      "authorship_tag": "ABX9TyMaWZi26SHc4InmACFacW5r",
      "include_colab_link": true
    },
    "kernelspec": {
      "name": "python3",
      "display_name": "Python 3"
    },
    "language_info": {
      "name": "python"
    }
  },
  "cells": [
    {
      "cell_type": "markdown",
      "metadata": {
        "id": "view-in-github",
        "colab_type": "text"
      },
      "source": [
        "<a href=\"https://colab.research.google.com/github/JoacirAngelo/Meus-Codigos/blob/main/Exercico6.ipynb\" target=\"_parent\"><img src=\"https://colab.research.google.com/assets/colab-badge.svg\" alt=\"Open In Colab\"/></a>"
      ]
    },
    {
      "cell_type": "markdown",
      "metadata": {
        "id": "4hijZZB8UTzP"
      },
      "source": [
        "Faça um programa que calcula o novo valor do salário de um funcionário. O usuário informa o salário atual (ex. 1250,00) e o percentual do reajuste (ex. 13,5 %). "
      ]
    },
    {
      "cell_type": "code",
      "metadata": {
        "colab": {
          "base_uri": "https://localhost:8080/"
        },
        "id": "vKKGDUL9UW91",
        "outputId": "416a389d-4d5e-49d8-9ff9-6e67898afb50"
      },
      "source": [
        "print('-------PROGRAMA DE REAJUSTE SALÁRIAL-------')\n",
        "print('\\n')\n",
        "s= float(input('Quanto é o salário? : R$'))\n",
        "j= float(input('Qual à porcentagem do reajuste? : '))\n",
        "p= s * (j / 100) + s\n",
        "print('O salário que era de R${} depois do reajuste de {:.2f}% passará a ser de R${:.2f}'.format(s,j,p))"
      ],
      "execution_count": 7,
      "outputs": [
        {
          "output_type": "stream",
          "text": [
            "-------PROGRAMA DE REAJUSTE SALÁRIAL-------\n",
            "\n",
            "\n",
            "Quanto é o salário? : R$1000\n",
            "Qual à porcentagem do reajuste? : 10\n",
            "O salário que era de R$1000.0 depois do reajuste de 10.00% passará a ser de R$1100.00\n"
          ],
          "name": "stdout"
        }
      ]
    }
  ]
}