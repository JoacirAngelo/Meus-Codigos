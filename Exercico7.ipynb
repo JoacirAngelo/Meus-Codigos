{
  "nbformat": 4,
  "nbformat_minor": 0,
  "metadata": {
    "colab": {
      "name": "Exercico7.ipynb",
      "provenance": [],
      "authorship_tag": "ABX9TyPtnEF3iWzPstGJcTtbWtvI",
      "include_colab_link": true
    },
    "kernelspec": {
      "name": "python3",
      "display_name": "Python 3"
    },
    "language_info": {
      "name": "python"
    }
  },
  "cells": [
    {
      "cell_type": "markdown",
      "metadata": {
        "id": "view-in-github",
        "colab_type": "text"
      },
      "source": [
        "<a href=\"https://colab.research.google.com/github/JoacirAngelo/Meus-Codigos/blob/main/Exercico7.ipynb\" target=\"_parent\"><img src=\"https://colab.research.google.com/assets/colab-badge.svg\" alt=\"Open In Colab\"/></a>"
      ]
    },
    {
      "cell_type": "markdown",
      "metadata": {
        "id": "oIyuBPKzXzwc"
      },
      "source": [
        "Faça um programa que calcula o tempo (em anos) que uma pessoa irá demorar para poupar R$ 1.000.000,00 (Um Milhão de Reais). O usuário informa o salário mensal e o total de despesas mensais"
      ]
    },
    {
      "cell_type": "code",
      "metadata": {
        "colab": {
          "base_uri": "https://localhost:8080/"
        },
        "id": "E363y6wjX1VJ",
        "outputId": "304c9855-a96f-47f2-dfc8-e8b9d2cdf9e9"
      },
      "source": [
        "print('-------PROGRMA PRA SABER QUANDO VOCÊ FICARÁ MILIONARIO-------')\n",
        "print('\\n')\n",
        "salario= float(input('Quanto você ganha por mês? : '))\n",
        "gastos= float(input('Qual valor total de suas dividas no mês? : '))\n",
        "sobra= salario - gastos\n",
        "valor_ano= sobra * 12\n",
        "tempo_mili= 1000000 / valor_ano\n",
        "print('\\n')\n",
        "print('Você juntando R${} todo mês você ficará Milionario depois de {:.2f} Anos. '.format(sobra,tempo_mili))"
      ],
      "execution_count": 12,
      "outputs": [
        {
          "output_type": "stream",
          "text": [
            "-------PROGRMA PRA SABER QUANDO VOCÊ FICARÁ MILIONARIO-------\n",
            "\n",
            "\n",
            "Quanto você ganha por mês? : 18000\n",
            "Qual valor total de suas dividas no mês? : 2000\n",
            "\n",
            "\n",
            "Você juntando R$16000.0 todo mês você ficará Milionario depois de 5.21 Anos. \n"
          ],
          "name": "stdout"
        }
      ]
    }
  ]
}