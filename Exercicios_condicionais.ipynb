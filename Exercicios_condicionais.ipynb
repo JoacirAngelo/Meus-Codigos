{
  "nbformat": 4,
  "nbformat_minor": 0,
  "metadata": {
    "colab": {
      "name": "Exercicios_condicionais.ipynb",
      "provenance": [],
      "collapsed_sections": [],
      "authorship_tag": "ABX9TyNeY14rrOYiUl1aL8jGfzA5",
      "include_colab_link": true
    },
    "kernelspec": {
      "name": "python3",
      "display_name": "Python 3"
    },
    "language_info": {
      "name": "python"
    }
  },
  "cells": [
    {
      "cell_type": "markdown",
      "metadata": {
        "id": "view-in-github",
        "colab_type": "text"
      },
      "source": [
        "<a href=\"https://colab.research.google.com/github/JoacirAngelo/Meus-Codigos/blob/main/Exercicios_condicionais.ipynb\" target=\"_parent\"><img src=\"https://colab.research.google.com/assets/colab-badge.svg\" alt=\"Open In Colab\"/></a>"
      ]
    },
    {
      "cell_type": "markdown",
      "metadata": {
        "id": "JNs4YoCL47j6"
      },
      "source": [
        "1-Faça um Programa que verifique se uma letra digitada é vogal ou consoante.\n"
      ]
    },
    {
      "cell_type": "code",
      "metadata": {
        "id": "amtlaDPx45G3"
      },
      "source": [
        "letra = input('Digite uma letra:')\n",
        "if letra == 'a' or letra == 'e' or letra == 'i' or letra == 'o' or letra == 'u':\n",
        "  print('Vogal')\n",
        "else:\n",
        "  print('Consoante')"
      ],
      "execution_count": null,
      "outputs": []
    },
    {
      "cell_type": "markdown",
      "metadata": {
        "id": "5DS1vuEO5I2A"
      },
      "source": [
        "2-Faça um programa para a leitura de duas notas parciais de um aluno. O programa deve calcular a média alcançada por aluno e apresentar:\n",
        "A mensagem \"Aprovado\", se a média alcançada for maior ou igual a sete;\n",
        "A mensagem “Prova Final”, se a média alcançada estiver entre quatro e sete;\n",
        "A mensagem \"Reprovado\", se a média for menor do que quatro.\n",
        "\n"
      ]
    },
    {
      "cell_type": "code",
      "metadata": {
        "id": "dAC8rr2b5iMY"
      },
      "source": [
        "%reset -f\n",
        "\n",
        "nota1 = float(input('Nota da primeira unidade: '))\n",
        "nota2 = float(input('Nota da segunda unidade: '))\n",
        "\n",
        "media = (nota1 + nota2) / 2\n",
        "print('Média:',media)\n",
        "\n",
        "if media >= 7:\n",
        "  print('Aprovado')\n",
        "elif media < 4:\n",
        "  print('Reprovado')\n",
        "else:\n",
        "  print('Prova final')"
      ],
      "execution_count": null,
      "outputs": []
    },
    {
      "cell_type": "markdown",
      "metadata": {
        "id": "uiSghc3y5pkg"
      },
      "source": [
        "3-Faça um Programa que leia três números e mostre o maior e o menor deles.\n"
      ]
    },
    {
      "cell_type": "code",
      "metadata": {
        "colab": {
          "base_uri": "https://localhost:8080/"
        },
        "id": "WuhJFzEi6FN2",
        "outputId": "a961efa4-c4af-4ebf-8246-0569e9ee2a25"
      },
      "source": [
        "%reset -f\n",
        "n1 = float(input('Digite um número: '))\n",
        "n2 = float(input('Digite um número: '))\n",
        "n3 = float(input('Digite um número: '))\n",
        "\n",
        "if n1 < n2 and n1  < n3:\n",
        "  menor = n1\n",
        "elif n2 < n3 and n2 < n1:\n",
        "  menor = n2\n",
        "else : \n",
        "   menor = n3\n",
        "if n1 > n2 and n1 > n3:\n",
        "  maior = n1\n",
        "elif n2 > n3 and n2 > n1:\n",
        "  maior = n2\n",
        "else :\n",
        "  maior = n3\n",
        "if n1 > n2 and n1 < n3:\n",
        "  meio = n1\n",
        "elif  n2 > n3 and n2 < n1 :\n",
        "  meio = n2\n",
        "else :\n",
        "  meio = n3  \n",
        "\n",
        "print(' Entre os números que você digitou: ')\n",
        "print('O menor é :', menor)\n",
        "print('O Maior é :', maior)\n",
        "print('Em sequência númerica: ',menor , meio, maior)\n",
        "\n",
        "\n"
      ],
      "execution_count": null,
      "outputs": [
        {
          "output_type": "stream",
          "text": [
            "Digite um número: 25\n",
            "Digite um número: 10\n",
            "Digite um número: 17\n",
            " Entre os números que você digitou: \n",
            "O menor é : 10.0\n",
            "O Maior é : 25.0\n",
            "Em sequência númerica:  10.0 17.0 25.0\n"
          ],
          "name": "stdout"
        }
      ]
    },
    {
      "cell_type": "markdown",
      "metadata": {
        "id": "X-olfzUHAJX0"
      },
      "source": [
        "4- Faça um programa que pergunte o preço de três produtos e informe qual produto você deve comprar, sabendo que a decisão é sempre pelo mais barato.\n"
      ]
    },
    {
      "cell_type": "code",
      "metadata": {
        "colab": {
          "base_uri": "https://localhost:8080/"
        },
        "id": "Jrk55z7AAN72",
        "outputId": "8aaa257c-1987-4e4e-8112-87382dc72158"
      },
      "source": [
        "%reset -f\n",
        "p1 = float(input('Digite o valor do 1° produto: '))\n",
        "p2 = float(input('Digite o valor do 2° produto: '))\n",
        "p3 = float(input('Digite o valor do 3° produto: '))\n",
        "\n",
        "if p1 < p2 and p1  < p3:\n",
        "  menor = p1\n",
        "  menorp = ('1° produto') \n",
        "elif p2 < p3 and p2 < p1:\n",
        "  menor = p2\n",
        "  menorp = ('2° produto[')\n",
        "else : \n",
        "   menor = p3\n",
        "   menorp = ('3° produto')\n",
        "\n",
        "\n",
        "print(' Analisando os valores dos produtos que você digitou: ')\n",
        "print('Você deve comprar o', menorp,'no valor de:' ,menor)\n"
      ],
      "execution_count": null,
      "outputs": [
        {
          "output_type": "stream",
          "text": [
            "Digite o valor do 1° produto: 243\n",
            "Digite o valor do 2° produto: 4345\n",
            "Digite o valor do 3° produto: 666\n",
            " Analisando os valores dos produtos que você digitou: \n",
            "Você deve comprar o 1° produto no valor de: 243.0\n"
          ],
          "name": "stdout"
        }
      ]
    },
    {
      "cell_type": "markdown",
      "metadata": {
        "id": "tJua3KfOM_Pq"
      },
      "source": [
        "5- Faça um Programa que leia três números e mostre-os em ordem decrescente.\n"
      ]
    },
    {
      "cell_type": "code",
      "metadata": {
        "id": "BMZroU50NEGg"
      },
      "source": [
        "%reset -f\n",
        "n1 = int(input('Primeiro número: '))\n",
        "n2 = int(input('Segundo número: '))\n",
        "n3 = int(input('Terceiro número: '))\n",
        "\n",
        "if n1 >= n2 and n1 >= n3:\n",
        "  print(n1, end=' ')\n",
        "  if n2 >= n3:\n",
        "    print(n2,n3)\n",
        "  else:\n",
        "    print(n3,n2)\n",
        "elif n2 >= n1 and n2 >= n3:\n",
        "  print(n2,end=' ')\n",
        "  if n1 >= n3:\n",
        "    print(n1,n3)\n",
        "  else:\n",
        "    print(n3,n1)\n",
        "else:\n",
        "  print(n3,end=' ')\n",
        "  if n1 >= n2:\n",
        "    print(n1,n2)\n",
        "  else:\n",
        "    print(n2,n1)"
      ],
      "execution_count": null,
      "outputs": []
    },
    {
      "cell_type": "markdown",
      "metadata": {
        "id": "BP6xKp-bNHa_"
      },
      "source": [
        "6- Faça um Programa que pergunte em que turno você estuda. Peça para digitar M-matutino ou V-Vespertino ou N-Noturno. Imprima a mensagem \"Bom Dia!\", \"Boa Tarde!\" ou \"Boa Noite!\" ou \"Valor Inválido!\", conforme o caso.\n"
      ]
    },
    {
      "cell_type": "code",
      "metadata": {
        "colab": {
          "base_uri": "https://localhost:8080/"
        },
        "id": "rc-i07mlNGfv",
        "outputId": "29559c33-fcd6-469d-a782-2f083d5e0f44"
      },
      "source": [
        "%reset -f \n",
        "\n",
        "print('Qual turno você estuda? Use as iniciais!')\n",
        "\n",
        "turno = input('Matutino (m), Vespestino (v), Noturno(n) : ')\n",
        "\n",
        "if turno == ('m'):\n",
        "  print('Bom Dia!⛅')\n",
        "elif turno == ('v'):\n",
        "  print( 'Boa Tarde!🌞')\n",
        "elif turno == ('n') :\n",
        "  print('Boa Noite!🌚')\n",
        "else :\n",
        "  print('Valor Inválido!')\n",
        "\n"
      ],
      "execution_count": null,
      "outputs": [
        {
          "output_type": "stream",
          "text": [
            "Qual turno você estuda? Use as iniciais!\n",
            "Matutino (m), Vespestino (v), Noturno(n) : 1\n",
            "Valor Inválido!\n"
          ],
          "name": "stdout"
        }
      ]
    },
    {
      "cell_type": "markdown",
      "metadata": {
        "id": "mpszUcV7YEhq"
      },
      "source": [
        "7- Faça um programa para o cálculo de uma folha de pagamento, sabendo que os descontos são do Imposto de Renda, que depende do salário bruto (conforme tabela abaixo) e 3% para o Sindicato e que o FGTS corresponde a 11% do Salário Bruto, mas não é descontado (é a empresa que deposita). O Salário Líquido corresponde ao Salário Bruto menos os descontos. O programa deverá pedir ao usuário o valor da sua hora e a quantidade de horas trabalhadas no mês. Desconto do IR:\n",
        "\n",
        "Salário Bruto até 900 (inclusive) - isento\n",
        "\n",
        "Salário Bruto até 1500 (inclusive) - desconto de 5%\n",
        "\n",
        "Salário Bruto até 2500 (inclusive) - desconto de 10%\n",
        "\n",
        "Salário Bruto acima de 2500 - desconto de 20%\n",
        "\n",
        "Imprima na tela as informações, dispostas conforme o exemplo abaixo. No exemplo o valor da hora é 5 e a quantidade de hora é 220.\n",
        "\n",
        "        Salário Bruto: (5 * 220)        : R$ 1100,00\n",
        "\n",
        "        (-) IR (5%)                     : R$   55,00  \n",
        "\n",
        "        (-) Sindicato ( 3%)             : R$   33,00\n",
        "\n",
        "        FGTS (11%)                      : R$  121,00\n",
        "\n",
        "        Total de descontos              : R$   88,00\n",
        "\n",
        "        Salário Líquido                : R$ 1012,00\n",
        "\n",
        "\n"
      ]
    },
    {
      "cell_type": "code",
      "metadata": {
        "id": "X3-VrhieY8IE"
      },
      "source": [
        "%reset -f\n",
        "\n",
        "valor_hora = float(input('Qual o valor da hora trabalhada? R$'))\n",
        "horas_trabalhadas = int(input('Quantas horas foram trabalhadas nesse mês? '))\n",
        "\n",
        "salario_bruto = valor_hora * horas_trabalhadas\n",
        "print('Salário bruto: (',valor_hora,'*',horas_trabalhadas,'): R$',salario_bruto)\n",
        "\n",
        "if salario_bruto <= 900:\n",
        "  ir = 0\n",
        "  aliquota = 0\n",
        "elif salario_bruto <= 1500:\n",
        "  ir = salario_bruto * 5/100\n",
        "  aliquota = 5\n",
        "elif salario_bruto <= 2500:\n",
        "  ir = salario_bruto * 10/100\n",
        "  aliquota = 10\n",
        "else:\n",
        "  ir = salario_bruto * 20/100\n",
        "  aliquota = 20\n",
        "print('(-) IR (',aliquota,'%): R$',ir)\n",
        "\n",
        "sindicato = salario_bruto * 3/100\n",
        "print('(-) Sindicato (3%): R$',sindicato)\n",
        "\n",
        "fgts = salario_bruto * 11/100\n",
        "print('FGTS (11%): R$',fgts)\n",
        "\n",
        "descontos = ir + sindicato\n",
        "print('Total de descontos: R$',descontos)\n",
        "\n",
        "salario_liquido = salario_bruto - descontos\n",
        "print('Salário líquido: R$',salario_liquido)"
      ],
      "execution_count": null,
      "outputs": []
    },
    {
      "cell_type": "markdown",
      "metadata": {
        "id": "AUFq38KZZIRY"
      },
      "source": [
        "8- Faça um Programa que leia um número e exiba o dia correspondente da semana. (1-Domingo, 2- Segunda, etc.), se digitar outro valor deve aparecer valor inválido.\n"
      ]
    },
    {
      "cell_type": "code",
      "metadata": {
        "colab": {
          "base_uri": "https://localhost:8080/",
          "height": 561
        },
        "id": "gPjI-Nd7ZVwm",
        "outputId": "26f766ae-c615-4200-c6dd-60e8af18736b"
      },
      "source": [
        "%reset -f\n",
        "print('Qual dia da semana seria...   ')\n",
        "print('1-Domingo, 2- Segunda, etc')\n",
        "dia = input('Digite um número conforme o exemplo acima: ')\n",
        "print(' ')\n",
        "if dia == 1 or 2 or 3 or 5 or 6 or 7:\n",
        "  print('O número você digitou está corresponde á:', end=' ')\n",
        "else :\n",
        "  print('Valor Inválido!')\n",
        "if dia == ('1'):\n",
        "  print('Domingo!⛅')\n",
        "elif dia == ('2'):\n",
        "  print( 'Segunda-feira!🌞')\n",
        "elif dia == ('3') :\n",
        "  print('Terça-feira!')\n",
        "elif dia == ('4'):\n",
        "  print( 'Quarta-feira!')\n",
        "elif dia == ('5'):\n",
        "  print( 'Quinta-feira!') \n",
        "elif dia == ('6'):\n",
        "  print( 'Sexta-feira!') \n",
        "elif dia == ('7'):\n",
        "  print( 'Sabado!')\n",
        "\n"
      ],
      "execution_count": null,
      "outputs": [
        {
          "output_type": "stream",
          "text": [
            "Qual dia da semana seria...   \n",
            "1-Domingo, 2- Segunda, etc\n"
          ],
          "name": "stdout"
        },
        {
          "output_type": "error",
          "ename": "KeyboardInterrupt",
          "evalue": "ignored",
          "traceback": [
            "\u001b[0;31m---------------------------------------------------------------------------\u001b[0m",
            "\u001b[0;31mKeyboardInterrupt\u001b[0m                         Traceback (most recent call last)",
            "\u001b[0;32m/usr/local/lib/python3.7/dist-packages/ipykernel/kernelbase.py\u001b[0m in \u001b[0;36m_input_request\u001b[0;34m(self, prompt, ident, parent, password)\u001b[0m\n\u001b[1;32m    728\u001b[0m             \u001b[0;32mtry\u001b[0m\u001b[0;34m:\u001b[0m\u001b[0;34m\u001b[0m\u001b[0;34m\u001b[0m\u001b[0m\n\u001b[0;32m--> 729\u001b[0;31m                 \u001b[0mident\u001b[0m\u001b[0;34m,\u001b[0m \u001b[0mreply\u001b[0m \u001b[0;34m=\u001b[0m \u001b[0mself\u001b[0m\u001b[0;34m.\u001b[0m\u001b[0msession\u001b[0m\u001b[0;34m.\u001b[0m\u001b[0mrecv\u001b[0m\u001b[0;34m(\u001b[0m\u001b[0mself\u001b[0m\u001b[0;34m.\u001b[0m\u001b[0mstdin_socket\u001b[0m\u001b[0;34m,\u001b[0m \u001b[0;36m0\u001b[0m\u001b[0;34m)\u001b[0m\u001b[0;34m\u001b[0m\u001b[0;34m\u001b[0m\u001b[0m\n\u001b[0m\u001b[1;32m    730\u001b[0m             \u001b[0;32mexcept\u001b[0m \u001b[0mException\u001b[0m\u001b[0;34m:\u001b[0m\u001b[0;34m\u001b[0m\u001b[0;34m\u001b[0m\u001b[0m\n",
            "\u001b[0;32m/usr/local/lib/python3.7/dist-packages/jupyter_client/session.py\u001b[0m in \u001b[0;36mrecv\u001b[0;34m(self, socket, mode, content, copy)\u001b[0m\n\u001b[1;32m    802\u001b[0m         \u001b[0;32mtry\u001b[0m\u001b[0;34m:\u001b[0m\u001b[0;34m\u001b[0m\u001b[0;34m\u001b[0m\u001b[0m\n\u001b[0;32m--> 803\u001b[0;31m             \u001b[0mmsg_list\u001b[0m \u001b[0;34m=\u001b[0m \u001b[0msocket\u001b[0m\u001b[0;34m.\u001b[0m\u001b[0mrecv_multipart\u001b[0m\u001b[0;34m(\u001b[0m\u001b[0mmode\u001b[0m\u001b[0;34m,\u001b[0m \u001b[0mcopy\u001b[0m\u001b[0;34m=\u001b[0m\u001b[0mcopy\u001b[0m\u001b[0;34m)\u001b[0m\u001b[0;34m\u001b[0m\u001b[0;34m\u001b[0m\u001b[0m\n\u001b[0m\u001b[1;32m    804\u001b[0m         \u001b[0;32mexcept\u001b[0m \u001b[0mzmq\u001b[0m\u001b[0;34m.\u001b[0m\u001b[0mZMQError\u001b[0m \u001b[0;32mas\u001b[0m \u001b[0me\u001b[0m\u001b[0;34m:\u001b[0m\u001b[0;34m\u001b[0m\u001b[0;34m\u001b[0m\u001b[0m\n",
            "\u001b[0;32m/usr/local/lib/python3.7/dist-packages/zmq/sugar/socket.py\u001b[0m in \u001b[0;36mrecv_multipart\u001b[0;34m(self, flags, copy, track)\u001b[0m\n\u001b[1;32m    582\u001b[0m         \"\"\"\n\u001b[0;32m--> 583\u001b[0;31m         \u001b[0mparts\u001b[0m \u001b[0;34m=\u001b[0m \u001b[0;34m[\u001b[0m\u001b[0mself\u001b[0m\u001b[0;34m.\u001b[0m\u001b[0mrecv\u001b[0m\u001b[0;34m(\u001b[0m\u001b[0mflags\u001b[0m\u001b[0;34m,\u001b[0m \u001b[0mcopy\u001b[0m\u001b[0;34m=\u001b[0m\u001b[0mcopy\u001b[0m\u001b[0;34m,\u001b[0m \u001b[0mtrack\u001b[0m\u001b[0;34m=\u001b[0m\u001b[0mtrack\u001b[0m\u001b[0;34m)\u001b[0m\u001b[0;34m]\u001b[0m\u001b[0;34m\u001b[0m\u001b[0;34m\u001b[0m\u001b[0m\n\u001b[0m\u001b[1;32m    584\u001b[0m         \u001b[0;31m# have first part already, only loop while more to receive\u001b[0m\u001b[0;34m\u001b[0m\u001b[0;34m\u001b[0m\u001b[0;34m\u001b[0m\u001b[0m\n",
            "\u001b[0;32mzmq/backend/cython/socket.pyx\u001b[0m in \u001b[0;36mzmq.backend.cython.socket.Socket.recv\u001b[0;34m()\u001b[0m\n",
            "\u001b[0;32mzmq/backend/cython/socket.pyx\u001b[0m in \u001b[0;36mzmq.backend.cython.socket.Socket.recv\u001b[0;34m()\u001b[0m\n",
            "\u001b[0;32mzmq/backend/cython/socket.pyx\u001b[0m in \u001b[0;36mzmq.backend.cython.socket._recv_copy\u001b[0;34m()\u001b[0m\n",
            "\u001b[0;32m/usr/local/lib/python3.7/dist-packages/zmq/backend/cython/checkrc.pxd\u001b[0m in \u001b[0;36mzmq.backend.cython.checkrc._check_rc\u001b[0;34m()\u001b[0m\n",
            "\u001b[0;31mKeyboardInterrupt\u001b[0m: ",
            "\nDuring handling of the above exception, another exception occurred:\n",
            "\u001b[0;31mKeyboardInterrupt\u001b[0m                         Traceback (most recent call last)",
            "\u001b[0;32m<ipython-input-119-c4b35a381cb8>\u001b[0m in \u001b[0;36m<module>\u001b[0;34m()\u001b[0m\n\u001b[1;32m      2\u001b[0m \u001b[0mprint\u001b[0m\u001b[0;34m(\u001b[0m\u001b[0;34m'Qual dia da semana seria...   '\u001b[0m\u001b[0;34m)\u001b[0m\u001b[0;34m\u001b[0m\u001b[0;34m\u001b[0m\u001b[0m\n\u001b[1;32m      3\u001b[0m \u001b[0mprint\u001b[0m\u001b[0;34m(\u001b[0m\u001b[0;34m'1-Domingo, 2- Segunda, etc'\u001b[0m\u001b[0;34m)\u001b[0m\u001b[0;34m\u001b[0m\u001b[0;34m\u001b[0m\u001b[0m\n\u001b[0;32m----> 4\u001b[0;31m \u001b[0mdia\u001b[0m \u001b[0;34m=\u001b[0m \u001b[0minput\u001b[0m\u001b[0;34m(\u001b[0m\u001b[0;34m'Digite um número conforme o exemplo acima: '\u001b[0m\u001b[0;34m)\u001b[0m\u001b[0;34m\u001b[0m\u001b[0;34m\u001b[0m\u001b[0m\n\u001b[0m\u001b[1;32m      5\u001b[0m \u001b[0mprint\u001b[0m\u001b[0;34m(\u001b[0m\u001b[0;34m' '\u001b[0m\u001b[0;34m)\u001b[0m\u001b[0;34m\u001b[0m\u001b[0;34m\u001b[0m\u001b[0m\n\u001b[1;32m      6\u001b[0m \u001b[0;32mif\u001b[0m \u001b[0mdia\u001b[0m \u001b[0;34m==\u001b[0m \u001b[0;36m1\u001b[0m \u001b[0;32mor\u001b[0m \u001b[0;36m2\u001b[0m \u001b[0;32mor\u001b[0m \u001b[0;36m3\u001b[0m \u001b[0;32mor\u001b[0m \u001b[0;36m5\u001b[0m \u001b[0;32mor\u001b[0m \u001b[0;36m6\u001b[0m \u001b[0;32mor\u001b[0m \u001b[0;36m7\u001b[0m\u001b[0;34m:\u001b[0m\u001b[0;34m\u001b[0m\u001b[0;34m\u001b[0m\u001b[0m\n",
            "\u001b[0;32m/usr/local/lib/python3.7/dist-packages/ipykernel/kernelbase.py\u001b[0m in \u001b[0;36mraw_input\u001b[0;34m(self, prompt)\u001b[0m\n\u001b[1;32m    702\u001b[0m             \u001b[0mself\u001b[0m\u001b[0;34m.\u001b[0m\u001b[0m_parent_ident\u001b[0m\u001b[0;34m,\u001b[0m\u001b[0;34m\u001b[0m\u001b[0;34m\u001b[0m\u001b[0m\n\u001b[1;32m    703\u001b[0m             \u001b[0mself\u001b[0m\u001b[0;34m.\u001b[0m\u001b[0m_parent_header\u001b[0m\u001b[0;34m,\u001b[0m\u001b[0;34m\u001b[0m\u001b[0;34m\u001b[0m\u001b[0m\n\u001b[0;32m--> 704\u001b[0;31m             \u001b[0mpassword\u001b[0m\u001b[0;34m=\u001b[0m\u001b[0;32mFalse\u001b[0m\u001b[0;34m,\u001b[0m\u001b[0;34m\u001b[0m\u001b[0;34m\u001b[0m\u001b[0m\n\u001b[0m\u001b[1;32m    705\u001b[0m         )\n\u001b[1;32m    706\u001b[0m \u001b[0;34m\u001b[0m\u001b[0m\n",
            "\u001b[0;32m/usr/local/lib/python3.7/dist-packages/ipykernel/kernelbase.py\u001b[0m in \u001b[0;36m_input_request\u001b[0;34m(self, prompt, ident, parent, password)\u001b[0m\n\u001b[1;32m    732\u001b[0m             \u001b[0;32mexcept\u001b[0m \u001b[0mKeyboardInterrupt\u001b[0m\u001b[0;34m:\u001b[0m\u001b[0;34m\u001b[0m\u001b[0;34m\u001b[0m\u001b[0m\n\u001b[1;32m    733\u001b[0m                 \u001b[0;31m# re-raise KeyboardInterrupt, to truncate traceback\u001b[0m\u001b[0;34m\u001b[0m\u001b[0;34m\u001b[0m\u001b[0;34m\u001b[0m\u001b[0m\n\u001b[0;32m--> 734\u001b[0;31m                 \u001b[0;32mraise\u001b[0m \u001b[0mKeyboardInterrupt\u001b[0m\u001b[0;34m\u001b[0m\u001b[0;34m\u001b[0m\u001b[0m\n\u001b[0m\u001b[1;32m    735\u001b[0m             \u001b[0;32melse\u001b[0m\u001b[0;34m:\u001b[0m\u001b[0;34m\u001b[0m\u001b[0;34m\u001b[0m\u001b[0m\n\u001b[1;32m    736\u001b[0m                 \u001b[0;32mbreak\u001b[0m\u001b[0;34m\u001b[0m\u001b[0;34m\u001b[0m\u001b[0m\n",
            "\u001b[0;31mKeyboardInterrupt\u001b[0m: "
          ]
        }
      ]
    },
    {
      "cell_type": "markdown",
      "metadata": {
        "id": "iXNwK2L_fBUo"
      },
      "source": [
        "9- Faça um programa que calcule as raízes de uma equação do segundo grau, na forma ax2 + bx + c. O programa deverá pedir os valores de a, b e c e fazer as consistências, informando ao usuário nas seguintes situações:\n",
        "\n",
        "Se o usuário informar o valor de A igual a zero, a equação não é do segundo grau e o programa não deve fazer pedir os demais valores, sendo encerrado;\n",
        "\n",
        "Se o delta calculado for negativo, a equação não possui raizes reais. Informe ao usuário e encerre o programa;\n",
        "\n",
        "Se o delta calculado for igual a zero a equação possui apenas uma raiz real; informe-a ao usuário;\n",
        "\n",
        "Se o delta for positivo, a equação possui duas raiz reais; informe-as ao usuário;\n"
      ]
    },
    {
      "cell_type": "code",
      "metadata": {
        "id": "Ol1lNIDYfN5q"
      },
      "source": [
        "%reset -f\n",
        "\n",
        "print('Informe os coeficientes para resolvermos uma equação do segundo grau.')\n",
        "a = float(input('Coeficiente a: '))\n",
        "if a == 0:\n",
        "  print('Não é equação do segundo grau.')\n",
        "else:\n",
        "  b = float(input('Coeficiente b: '))\n",
        "  c = float(input('Coeficiente c: '))\n",
        "\n",
        "  delta = b**2 - 4*a*c\n",
        "\n",
        "  if delta < 0:\n",
        "    print('Não possui raizes reais.')\n",
        "  elif delta == 0:\n",
        "    raiz = -b / (2*a)\n",
        "    print('Possui uma raiz real:',raiz)\n",
        "  else:\n",
        "    r1 = (-b + delta**(1/2)) / (2*a)\n",
        "    r2 = (-b - delta**(1/2)) / (2*a)\n",
        "    print('As raizes reais são',r1,'e',r2)"
      ],
      "execution_count": null,
      "outputs": []
    },
    {
      "cell_type": "markdown",
      "metadata": {
        "id": "uY3DrAdRf5sK"
      },
      "source": [
        "10- Faça um Programa que peça um número correspondente a um determinado ano e em seguida informe se este ano é ou não bissexto.\n"
      ]
    },
    {
      "cell_type": "code",
      "metadata": {
        "colab": {
          "base_uri": "https://localhost:8080/"
        },
        "id": "z9ZHFFq4gDPq",
        "outputId": "ac607e6e-1694-451c-c85b-e935e2a6ea7c"
      },
      "source": [
        "%reset -f\n",
        "\n",
        "print('Informe um ano pra saber se ele é bissexto: ')\n",
        "a = float(input('Ano de :'))\n",
        "if ((a / 4) != 0) and  ((a / 100) != 0):\n",
        "  print('O ano de',a,'é Bissexto!') \n",
        "elif a/400 == 0:\n",
        "  print('O ano de',a,'é Bissexto!')\n",
        "else :\n",
        "  print('O ano de',a, 'não é Bissexto!' )\n"
      ],
      "execution_count": null,
      "outputs": [
        {
          "output_type": "stream",
          "text": [
            "Informe um ano pra saber se ele é bissexto: \n",
            "Ano de :5000\n",
            "O ano de 5000.0 é Bissexto!\n"
          ],
          "name": "stdout"
        }
      ]
    },
    {
      "cell_type": "markdown",
      "metadata": {
        "id": "4LmihKrrmt13"
      },
      "source": [
        "11- Faça um Programa que leia um número inteiro menor que 1000 e imprima a quantidade de centenas, dezenas e unidades do mesmo.\n",
        "Observando os termos no plural a colocação do \"e\", da vírgula entre outros. Exemplo:\n",
        "\n",
        "326 = 3 centenas, 2 dezenas e 6 unidades\n",
        "\n",
        "12 = 1 dezena e 2 unidades Testar com: 326, 300, 100, 320, 310,305, 301, 101, 311, 111, 25, 20, 10, 21, 11, 1, 7 e 16\n",
        "\n"
      ]
    },
    {
      "cell_type": "code",
      "metadata": {
        "colab": {
          "base_uri": "https://localhost:8080/"
        },
        "id": "TSp7gch0pE7o",
        "outputId": "af9ba3fa-c982-4319-d917-a0b5fd2a105c"
      },
      "source": [
        "%reset -f\n",
        "num= int(input('Digite um número entre 0 a 999: '))\n",
        "u= num // 1 % 10\n",
        "d= num // 10 % 10\n",
        "c= num //100 % 10\n",
        "print('Analizando os números...')\n",
        "print('Unidade:{}'.format(u))\n",
        "print('Dezena:{}'.format(d))\n",
        "print('Centena:{}'.format(c))\n"
      ],
      "execution_count": null,
      "outputs": [
        {
          "output_type": "stream",
          "text": [
            "Digite um número entre 0 a 999: 865\n",
            "Analizando os números...\n",
            "Unidade:5\n",
            "Dezena:6\n",
            "Centena:8\n"
          ],
          "name": "stdout"
        }
      ]
    },
    {
      "cell_type": "markdown",
      "metadata": {
        "id": "PP6TLpHrptCm"
      },
      "source": [
        "12- Faça um Programa para um caixa eletrônico. O programa deverá perguntar ao usuário o valor do saque e depois informar quantas notas de cada valor serão fornecidas. As notas disponíveis serão as de 1, 5, 10, 50 e 100 reais.\n",
        "\n",
        " O valor mínimo é de 10 reais e o máximo de 600 reais.\n",
        "\n",
        " O programa não deve se preocupar com a quantidade de notas existentes na máquina.\n",
        "Exemplo 1: Para sacar a quantia de 256 reais, o programa fornece duas notas de 100, uma nota de 50, uma nota de 5 e uma nota de 1;\n",
        "\n",
        "Exemplo 2: Para sacar a quantia de 399 reais, o programa fornece três notas de 100, uma nota de 50, quatro notas de 10, uma nota de 5 e quatro notas de 1.\n"
      ]
    },
    {
      "cell_type": "code",
      "metadata": {
        "colab": {
          "base_uri": "https://localhost:8080/"
        },
        "id": "uJnrYOxTqS4U",
        "outputId": "75ba05a1-6982-44c5-c652-79f3e7f74a22"
      },
      "source": [
        "%reset -f\n",
        "\n",
        "print('Olá, esse é o progrma de um caixa eletrônico.')\n",
        "print(' ')\n",
        "print('Notas disponíveis: 1, 5, 10, 50 e 100 reais.')\n",
        "print(' ')\n",
        "print('O valor de saque é de no mínimo 10 reais e no máximo de 600 reais.')\n",
        "valor = int(input('Quanto você deseja sacar?: '))\n",
        "if valor > 9 and valor <= 600 :\n",
        "  print('Informe a quantidade de Notas que você deseja receber.')\n",
        "  um= int(input('Quantos moedas de 1 real?: '))\n",
        "  if um > 0:\n",
        "    print('R$',1*um,'em moedas de 1 real')\n",
        "else:\n",
        "  print('Desculpe, não é possivel sacar essa quantia!')\n",
        "if valor > 9 and valor <= 600:\n",
        "  cinco= int(input('Quantas de 5 reais?: '))\n",
        "  cincov= cinco * 5\n",
        "  if cinco  > 0:\n",
        "    print('R$',cinco * 5,'em notas de 5 reais.')\n",
        "if valor > 9 and valor <= 600:\n",
        "  dez = int(input('Quantas de 10 reais?: '))\n",
        "  dezv= dez * 10\n",
        "  if dez  > 0:\n",
        "    print('R$',dez * 10,'em notas de 10 reais.')\n",
        "if valor > 49 and valor <= 600:\n",
        "  cinquenta= int(input('Quantas de 50 reais?: '))\n",
        "  cinquentav= cinquenta * 50\n",
        "  if cinquenta  > 0:\n",
        "    print('R$',cinquenta * 50,'em notas de 50 reais.')\n",
        "if valor > 99 and valor <= 600:\n",
        "  cem= int(input('Quantas de 100 reais?: '))\n",
        "  cemv= cem * 100\n",
        "  if cem  > 0:\n",
        "    print('R$',cem * 100,'em notas de 100 reais.')\n",
        "\n",
        "valor_total= um + cincov + dezv + cemv \n",
        "if  valor_total == valor:\n",
        "   print('Tudo certo você irá sacar', valor,'reais.') \n",
        "else:\n",
        "   print ('Erro o valor que você pediu não foi obitido com a quantidade de notas digitadas') \n",
        "   print('Com a quantidade de notas que você digitou terá o valor de R$',valor_total)\n",
        "\n",
        "\n",
        "\n",
        "  \n"
      ],
      "execution_count": null,
      "outputs": [
        {
          "output_type": "stream",
          "text": [
            "Olá, esse é o progrma de um caixa eletrônico.\n",
            " \n",
            "Notas disponíveis: 1, 5, 10, 50 e 100 reais.\n",
            " \n",
            "O valor de saque é de no mínimo 10 reais e no máximo de 600 reais.\n",
            "Quanto você deseja sacar?: 600\n",
            "Informe a quantidade de Notas que você deseja receber.\n",
            "Quantos moedas de 1 real?: 0\n",
            "Quantas de 5 reais?: 0\n",
            "Quantas de 10 reais?: 0\n",
            "Quantas de 50 reais?: 0\n",
            "Quantas de 100 reais?: 6\n",
            "R$ 600 em notas de 100 reais.\n",
            "Tudo certo você irá sacar 600 reais\n"
          ],
          "name": "stdout"
        }
      ]
    },
    {
      "cell_type": "markdown",
      "metadata": {
        "id": "9b30lBRMejaw"
      },
      "source": [
        "13- Faça um programa que faça 5 perguntas para uma pessoa sobre um crime. As perguntas são:\n",
        "\n",
        "\"Telefonou para a vítima?\"\n",
        "\n",
        "\"Esteve no local do crime?\"\n",
        "\n",
        "\"Mora perto da vítima?\"\n",
        "\n",
        "\"Devia para a vítima?\"\n",
        "\n",
        "\"Já trabalhou com a vítima?\"\n",
        " \n",
        "O programa deve no final emitir uma classificação sobre a participação da pessoa no crime.\n",
        "\n",
        " Se a pessoa responder positivamente a 2 questões ela deve ser classificada como \"Suspeita\",\n",
        "\n",
        " entre 3 e 4 como \"Cúmplice\" e 5 como \"Assassino\".\n",
        "\n",
        " Caso contrário, ele será classificado como \"Inocente\".\n"
      ]
    },
    {
      "cell_type": "code",
      "metadata": {
        "id": "BYsMydnLevlw",
        "colab": {
          "base_uri": "https://localhost:8080/"
        },
        "outputId": "df0fea23-9211-4bf2-b067-0a8693da0bc0"
      },
      "source": [
        "%reset -f\n",
        "print('Responda algumas perguntas sobre o que viu no crime:')\n",
        "print('Responda \"1\" para sim e \"2\" para não')\n",
        "p1 = int(input('Telefonou para a vítima?: '))\n",
        "soma = 0\n",
        "if  p1 == 1:\n",
        "  soma += 1\n",
        "p2 = int(input('Esteve no local do crime?: '))\n",
        "if  p2 == 1:\n",
        "  soma += 1\n",
        "p3 = int(input('Mora perto da vítima?: '))\n",
        "if p3 == 1:\n",
        "  soma += 1\n",
        "p4 = int(input('Devia para a vítima?: '))\n",
        "if  p4 == 1:\n",
        "  soma += 1\n",
        "p5 = int(input('Já trabalhou com a vítima?: '))\n",
        "if p5 == 1:\n",
        "  soma += 1\n",
        "print('Você foi classificado como',end=' ')\n",
        "if soma == 5:\n",
        "  print('Assassino')\n",
        "\n",
        "elif soma < 5 and soma > 2:\n",
        "  print('Cúmplice')\n",
        "\n",
        "if soma == 2:\n",
        "  print('Suspeita')\n",
        "\n",
        "if soma < 2 :\n",
        "  print('Inocente')\n",
        "\n",
        "\n",
        "\n",
        "\n"
      ],
      "execution_count": null,
      "outputs": [
        {
          "output_type": "stream",
          "text": [
            "Responda algumas perguntas sobre o que viu no crime:\n",
            "Responda \"1\" para sim e \"2\" para não\n",
            "Telefonou para a vítima?: 2\n",
            "Esteve no local do crime?: 2\n",
            "Mora perto da vítima?: 2\n",
            "Devia para a vítima?: 2\n",
            "Já trabalhou com a vítima?: 2\n",
            "Você foi classificado como Inocente\n"
          ],
          "name": "stdout"
        }
      ]
    },
    {
      "cell_type": "markdown",
      "metadata": {
        "id": "FVZH4LIWtOvd"
      },
      "source": [
        "14- Um posto está vendendo combustíveis com a seguinte tabela de descontos:\n",
        "\n",
        "Álcool:\n",
        "\n",
        "até 20 litros, desconto de 3% por litro\n",
        "\n",
        "acima de 20 litros, desconto de 5% por litro\n",
        "\n",
        "Gasolina:\n",
        "\n",
        "até 20 litros, desconto de 4% por litro\n",
        "acima de 20 litros, desconto de 6% por litro \n",
        "\n",
        "Escreva um algoritmo que leia o número de litros vendidos, o tipo de combustível (codificado da seguinte forma: A-álcool, G-gasolina), \n",
        "\n",
        "calcule e imprima o valor a ser pago pelo cliente sabendo-se que o preço do litro da gasolina é RS 4,50 o preço do litro do álcool é R$ 3,40.\n"
      ]
    },
    {
      "cell_type": "code",
      "metadata": {
        "id": "M1qnTUoptpot",
        "colab": {
          "base_uri": "https://localhost:8080/"
        },
        "outputId": "7c6b2526-673c-40c0-e84e-c6b910b0d1a5"
      },
      "source": [
        "%reset -f\n",
        "print('Programa de um Posto de Combustiveis')\n",
        "\n",
        "l = int(input('Quantos Litros de Combustivel?: '))\n",
        "c = (input('A-álcool ou G-gasolina? De acordo com a inicial: '))\n",
        "valor = 0\n",
        "if c == 'A':\n",
        "  if  l <= 20 :\n",
        "    valor = 3.40 - (3.40 * (3/100))\n",
        "  else :\n",
        "    valor = 3.40 - (3.40 * (5/100))\n",
        "else :\n",
        "  if  l <= 20:\n",
        "    valor = 4.50 - (4.50 * (4/100))\n",
        "  else :\n",
        "    valor = 4.50 - (4.50 * (6/100))\n",
        "print('Valor total a ser pago com os descontos:')\n",
        "print('R${:.2f}' .format(valor * l))\n",
        "\n",
        "\n",
        "\n"
      ],
      "execution_count": null,
      "outputs": [
        {
          "output_type": "stream",
          "text": [
            "Programa de um Posto de Combustiveis\n",
            "Quantos Litros de Combustivel?: 2\n",
            "A-álcool ou G-gasolina? De acordo com a inicial: A\n",
            "Valor total a ser pago com os descontos:\n",
            "R$6.60\n"
          ],
          "name": "stdout"
        }
      ]
    },
    {
      "cell_type": "markdown",
      "metadata": {
        "id": "PRE5OSXOGkAj"
      },
      "source": [
        "15- Uma fruteira está vendendo frutas com a seguinte tabela de preços:\n",
        "\n",
        " \t\t                    Até 5 Kg           Acima de 5 Kg\n",
        "\n",
        "            Morango         R$ 2,50 por Kg          R$ 2,20 por Kg\n",
        "\n",
        "            Maçã            R$ 1,80 por Kg          R$ 1,50 por Kg\n",
        "\n",
        "Se o cliente comprar mais de 8 Kg em frutas ou o valor total da compra ultrapassar R$ 25,00, receberá ainda um desconto de 10% sobre este total. Escreva um algoritmo para ler a quantidade (em Kg) de morangos e a quantidade (em Kg) de maças adquiridas e escreva o valor a ser pago pelo cliente."
      ]
    },
    {
      "cell_type": "code",
      "metadata": {
        "colab": {
          "base_uri": "https://localhost:8080/"
        },
        "id": "ooNt8SdaHS4D",
        "outputId": "d404a69a-d220-41a0-bf4b-3f70d8e1cbaf"
      },
      "source": [
        "%reset -f\n",
        "print('Programa da Fruteria')\n",
        "print('')\n",
        "mo = int(input('Quantos Kg de Morango ?: '))\n",
        "ma = int(input('Quantos Kg de Maça ?: '))\n",
        "\n",
        "if mo <= 5 :\n",
        "  valor_mo = 2.50 * mo\n",
        "else  :\n",
        "    valor_mo = 2.20 * mo\n",
        "if ma <= 5 :\n",
        "  valor_ma = 2.50 * ma\n",
        "else :\n",
        "  valor_ma = 2.20 * ma\n",
        "valor= valor_mo + valor_ma\n",
        "if mo > 8 or ma > 8 or valor > 25:\n",
        "  valor = valor - (valor * 10/100)\n",
        "print('Valor total a ser pago das sua compras:')\n",
        "print('R${:.2f}' .format(valor))\n",
        "print('')\n",
        "print('Muito Obrigado! Volte Sempre!')"
      ],
      "execution_count": null,
      "outputs": [
        {
          "output_type": "stream",
          "text": [
            "Programa da Fruteria\n",
            "\n",
            "Quantos Kg de Morango ?: 2\n",
            "Quantos Kg de Maça ?: 2\n",
            "Valor total a ser pago das sua compras:\n",
            "R$10.00\n",
            "\n",
            "Muito Obrigado! Volte Sempre!\n"
          ],
          "name": "stdout"
        }
      ]
    }
  ]
}