{
  "nbformat": 4,
  "nbformat_minor": 0,
  "metadata": {
    "colab": {
      "name": "Atividade01 -Condicionais.ipynb",
      "provenance": [],
      "authorship_tag": "ABX9TyNTzJr/VKmFddG9g9I2Q3JM",
      "include_colab_link": true
    },
    "kernelspec": {
      "display_name": "Python 3",
      "name": "python3"
    },
    "language_info": {
      "name": "python"
    }
  },
  "cells": [
    {
      "cell_type": "markdown",
      "metadata": {
        "id": "view-in-github",
        "colab_type": "text"
      },
      "source": [
        "<a href=\"https://colab.research.google.com/github/JoacirAngelo/Meus-Codigos/blob/main/Atividade01_Condicionais.ipynb\" target=\"_parent\"><img src=\"https://colab.research.google.com/assets/colab-badge.svg\" alt=\"Open In Colab\"/></a>"
      ]
    },
    {
      "cell_type": "markdown",
      "metadata": {
        "id": "Yra3neldF-18"
      },
      "source": [
        "Escreva um programa para ler o número de lados de um polígono regular e a medida do lado (em cm).\n",
        "\n",
        "Calcular e imprimir o seguinte:\n",
        "\n",
        "− Se o número de lados for igual a 3 escrever TRIÂNGULO, solicitar os valores de base e altura e escrever o valor da área.\n",
        "\n",
        "− Se o número de lados for igual a 4 escrever QUADRADO, solicitar o valor do lado e escrever o valor da sua área.\n",
        "\n",
        "− Se o número de lados for igual a 5 escrever PENTÁGONO.\n",
        "\n",
        "− Caso o número de lados seja inferior a 3 escrever NÃO É UM POLÍGONO.\n",
        "\n",
        "− Caso o número de lados seja superior a 5 escrever POLÍGONO NÃO IDENTIFICADO."
      ]
    },
    {
      "cell_type": "code",
      "metadata": {
        "colab": {
          "base_uri": "https://localhost:8080/"
        },
        "id": "_6wI_cskF9-y",
        "outputId": "38848622-0f3f-4746-94e0-bdb1355f0926"
      },
      "source": [
        "print('********PROGRAMA DO POLÍGONO REGULAR********')\n",
        "print(' ')\n",
        "numero_lados = int(input('Qual o número de lados do polígono?: '))\n",
        "print(' ')\n",
        "if numero_lados == 3:\n",
        "  print('Esse polígono é um TRIÂNGULO')\n",
        "  base_triangulo = float(input('Quanto mede a base?(em cm): '))\n",
        "  altura_triangulo = float(input('Quanto mede de altura?(em cm): '))\n",
        "  print('Sua aréa é igual á:', base_triangulo * altura_triangulo, 'cm²')\n",
        "elif numero_lados == 4:\n",
        "  print('Esse polígono é um QUADRADO')\n",
        "  print(' ')\n",
        "  lado = float(input('Quanto mede o lado desse polígono?(em cm): '))\n",
        "  print('Sua aréa é igual á:', lado * lado, 'cm²')\n",
        "elif numero_lados == 5:\n",
        "  print('Esse polígono é um PENTÁGONO')\n",
        "elif numero_lados < 3:\n",
        "  print('NÃO É UM POLÍGONO')\n",
        "else :\n",
        "  print('POLIGONO NÃO IDENTIFICADO')\n"
      ],
      "execution_count": null,
      "outputs": [
        {
          "output_type": "stream",
          "text": [
            "********PROGRAMA DO POLÍGONO REGULAR********\n",
            " \n",
            "Qual o número de lados do polígono?: 3\n",
            " \n",
            "Esse polígono é um TRIÂNGULO\n",
            "Quanto mede a base?(em cm): 2\n",
            "Quanto mede de altura?(em cm): 3\n",
            "Sua aréa é igual á: 6.0\n"
          ],
          "name": "stdout"
        }
      ]
    }
  ]
}