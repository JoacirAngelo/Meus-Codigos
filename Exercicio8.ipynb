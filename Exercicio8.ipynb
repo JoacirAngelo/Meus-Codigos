{
  "nbformat": 4,
  "nbformat_minor": 0,
  "metadata": {
    "colab": {
      "name": "Exercicio8.ipynb",
      "provenance": [],
      "authorship_tag": "ABX9TyNqJ3GDBZopNvPucabEwAH+",
      "include_colab_link": true
    },
    "kernelspec": {
      "name": "python3",
      "display_name": "Python 3"
    },
    "language_info": {
      "name": "python"
    }
  },
  "cells": [
    {
      "cell_type": "markdown",
      "metadata": {
        "id": "view-in-github",
        "colab_type": "text"
      },
      "source": [
        "<a href=\"https://colab.research.google.com/github/JoacirAngelo/Meus-Codigos/blob/main/Exercicio8.ipynb\" target=\"_parent\"><img src=\"https://colab.research.google.com/assets/colab-badge.svg\" alt=\"Open In Colab\"/></a>"
      ]
    },
    {
      "cell_type": "markdown",
      "metadata": {
        "id": "pl63j5xgxR-_"
      },
      "source": [
        "Faça um programa que leia um valor inteiro e mostre na tela uma sequência incluindo os dois números que vem antes, o número digitado, e os dois números que vem depois dele. Ex.: digitou 5; o programa mostra 3 4 5 6 7"
      ]
    },
    {
      "cell_type": "code",
      "metadata": {
        "colab": {
          "base_uri": "https://localhost:8080/"
        },
        "id": "zN2xrRM3xRId",
        "outputId": "70db04a3-8994-4df8-baff-f85151c84f0b"
      },
      "source": [
        "print('-------PROGRAMA PARA SABER OS DOIS NUMEROS QUE VEM ANTES E OS DOIS QUE VÊM DEPOIS------- ')\n",
        "n= int(input('Digite um número : '))\n",
        "antecessor= n - 2 , n - 1\n",
        "sucessor= n + 1, n + 2\n",
        "print('A sequência com os dois antecessores e os dois sucessores ficará assim :')\n",
        "print(antecessor , n, sucessor)\n"
      ],
      "execution_count": 5,
      "outputs": [
        {
          "output_type": "stream",
          "text": [
            "-------PROGRAMA PARA SABER OS DOIS NUMEROS QUE VEM ANTES E OS DOIS QUE VÊM DEPOIS------- \n",
            "Digite um número : 5\n",
            "A sequência com os dois antecessores e os dois sucessores ficará assim :\n",
            "(3, 4) 5 (6, 7)\n"
          ],
          "name": "stdout"
        }
      ]
    }
  ]
}