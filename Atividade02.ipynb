{
  "nbformat": 4,
  "nbformat_minor": 0,
  "metadata": {
    "colab": {
      "name": "Atividade02.ipynb",
      "provenance": [],
      "authorship_tag": "ABX9TyPmW6/s6nS6fWgNSgG26+4l"
    },
    "kernelspec": {
      "name": "python3",
      "display_name": "Python 3"
    },
    "language_info": {
      "name": "python"
    }
  },
  "cells": [
    {
      "cell_type": "markdown",
      "metadata": {
        "id": "4kxG7N1XUcKC"
      },
      "source": [
        "Foi realizada uma pesquisa de algumas características físicas da população de uma certa região, a qual coletou os seguintes dados referentes a cada habitante para serem analisados:  \n",
        "\n",
        "idade\n",
        "\n",
        "sexo (masculino e feminino)\n",
        "\n",
        "cor dos olhos (azuis, verdes ou castanhos)\n",
        "\n",
        "cor dos cabelos ( louros, castanhos, pretos)\n",
        "\n",
        "Faça um programa que determine e escreva:  \n",
        "\n",
        "a maior idade dos habitantes\n",
        "\n",
        "a quantidade de indivíduos do sexo feminino cuja idade está entre 18 e 35 anos (inclusive) e que tenham olhos verdes e cabelos louros.\n",
        "\n",
        "O programa deve encerrar a solicitação de dados dos habitantes quando o valor -1 for fornecido como idade."
      ]
    },
    {
      "cell_type": "code",
      "metadata": {
        "id": "zKznLWr4Ubhb"
      },
      "source": [
        "%reset -f\n",
        "\n",
        "idade = 0\n",
        "maior_idade = 0\n",
        "quantidade = 0\n",
        "while idade >= 0 :\n",
        "  idade =int(input('Qual sua idade? '))\n",
        "  if idade > maior_idade:\n",
        "    maior_idade = idade\n",
        "  sexo = input('Seu sexo? (m) ou (f)')\n",
        "  cor_dos_olhos = input('Qual a cor do seus olhos?(azuis, verdes ou castanhos) ')\n",
        "  cor_dos_cabelos = input('Qual a cor dos seus cabelos?( louros, castanhos, pretos) ')\n",
        "  if sexo == 'f'and idade > 18 and idade < 35 and cor_dos_olhos == 'verdes' and cor_dos_cabelos == 'louros':\n",
        "      quantidade = quantidade + 1\n",
        "\n",
        "print('Dados Analizados com Sucesso.')\n",
        "print('A maior idade dos Habitantes pesquisador é de', maior_idade,'Anos')\n",
        "print('E a quantidade de indivíduos do sexo feminino cuja idade está entre 18 e 35 anos (inclusive) ')\n",
        "print('e que tenham olhos verdes e cabelos louros. É de :', quantidade, 'individuos.')"
      ],
      "execution_count": null,
      "outputs": []
    }
  ]
}