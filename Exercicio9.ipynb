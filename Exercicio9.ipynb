{
  "nbformat": 4,
  "nbformat_minor": 0,
  "metadata": {
    "colab": {
      "name": "Exercicio9.ipynb",
      "provenance": [],
      "authorship_tag": "ABX9TyNI3m0uPOXQTByq7afes2F2",
      "include_colab_link": true
    },
    "kernelspec": {
      "name": "python3",
      "display_name": "Python 3"
    },
    "language_info": {
      "name": "python"
    }
  },
  "cells": [
    {
      "cell_type": "markdown",
      "metadata": {
        "id": "view-in-github",
        "colab_type": "text"
      },
      "source": [
        "<a href=\"https://colab.research.google.com/github/JoacirAngelo/Meus-Codigos/blob/main/Exercicio9.ipynb\" target=\"_parent\"><img src=\"https://colab.research.google.com/assets/colab-badge.svg\" alt=\"Open In Colab\"/></a>"
      ]
    },
    {
      "cell_type": "markdown",
      "metadata": {
        "id": "C_H9bXL71hSZ"
      },
      "source": [
        "Crie um programa que pergunta o nome do usuário e o ano de nascimento do usuário e calcula qual idade ele tem (ou terá, se ainda não fez aniversário neste ano). Ex.: Nome = Carlos, Ano = 1999. O programa mostra a mensagem: “Carlos tem 20 anos”"
      ]
    },
    {
      "cell_type": "code",
      "metadata": {
        "id": "Owi59Cwe1bih",
        "colab": {
          "base_uri": "https://localhost:8080/"
        },
        "outputId": "fc9f6ca6-fe92-47a8-9313-5020b4355a82"
      },
      "source": [
        "print('-------PROGRMA PARA SABER SUA IDADE-------')\n",
        "#from datetime import date\n",
        "nome= input('Qual seu nome? ')\n",
        "ano_nasc= int(input('Qual ano você nasceu? '))\n",
        "idade= 2021 - ano_nasc\n",
        "print(nome,'tem',idade, 'anos')\n",
        "\n"
      ],
      "execution_count": 16,
      "outputs": [
        {
          "output_type": "stream",
          "text": [
            "-------PROGRMA PARA SABER SUA IDADE-------\n",
            "Qual seu nome? ângelo\n",
            "Qual ano você nasceu? 2003\n",
            "ângelo tem 18 anos\n"
          ],
          "name": "stdout"
        }
      ]
    }
  ]
}